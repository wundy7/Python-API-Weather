{
 "cells": [
  {
   "cell_type": "code",
   "execution_count": null,
   "metadata": {},
   "outputs": [],
   "source": [
    "#Dependencies\n",
    "from citipy import citipy\n",
    "from config import openweatherkey\n",
    "import random\n",
    "import pandas as pd\n",
    "import numpy as np\n",
    "import matplotlib.pyplot as plt\n",
    "import requests\n",
    "import json"
   ]
  },
  {
   "cell_type": "code",
   "execution_count": null,
   "metadata": {},
   "outputs": [],
   "source": [
    "#Randomly generate latitude and longitude numbers. lookup nearest city using citipy\n",
    "\n",
    "# Empty series to hold all the names of cities and countries\n",
    "randCity = []\n",
    "randCountry = []\n",
    "loopcnt = 0\n",
    "\n",
    "#Loop through until at least 500 unique city names are found\n",
    "while len(randCity) < 500 :\n",
    "    # Loop counter to track number of loops made\n",
    "    loopcnt +=1\n",
    "    \n",
    "    # Randomly generate latitude\n",
    "    lat_pos = random.randint(0,2)\n",
    "    base_lat = random.randint(0,91)\n",
    "    dec_lat = random.random()/100\n",
    "    lat = base_lat + dec_lat\n",
    "    if lat_pos == 1:\n",
    "        lat = lat * -1\n",
    "    #print(f\"The lattitude is: {lat}\") \n",
    "    \n",
    "    # Randomly generate longitude\n",
    "    lng_pos = random.randint(0,2)\n",
    "    base_lng = random.randint(0,181)\n",
    "    dec_lng = random.random()/100\n",
    "    lng = base_lng + dec_lng\n",
    "    if lng_pos == 1:\n",
    "        lng = lng * -1\n",
    "    #print(f\"The longitude is: {lng}\") \n",
    "    \n",
    "    # Call citipy file to get nearest city based on random lat and lng\n",
    "    city = citipy.nearest_city(lat, lng)\n",
    "    \n",
    "    # Test to see if the random city is already in the list, if not, add it to the city and country lists\n",
    "    foundCity = False\n",
    "    for j in range(len(randCity)):\n",
    "        if city.city_name == randCity[j]:\n",
    "            foundCity = True\n",
    "    if foundCity==False  :   \n",
    "        randCity.append(city.city_name)\n",
    "        randCountry.append(city.country_code)"
   ]
  },
  {
   "cell_type": "code",
   "execution_count": null,
   "metadata": {},
   "outputs": [],
   "source": [
    "# Build query Url\n",
    "base_url = \"http://api.openweathermap.org/data/2.5/weather?\"\n",
    "api_key = openweatherkey\n",
    "units = \"imperial\"\n",
    "\n",
    "query_url = base_url + \"appid=\" + api_key + \"&units=\" + units + \"&q=\""
   ]
  },
  {
   "cell_type": "code",
   "execution_count": null,
   "metadata": {},
   "outputs": [],
   "source": [
    "# Loop through the list of cities and perform request for data on each\n",
    "search_data = []\n",
    "cityList = []\n",
    "countryList = []\n",
    "\n",
    "searchCnt = 0\n",
    "print(\"Begin API Call to OpenWeather Database \")\n",
    "print(\"---------------------------------------\")\n",
    "for city in randCity:\n",
    "    searchCnt += 1\n",
    "    print(f\"Processing record {searchCnt} for the city: {city}\")   \n",
    "    response = requests.get(query_url + city).json()\n",
    "    searchCityID = response.get(\"id\")\n",
    "    if response.get(\"id\"):\n",
    "        print(f\"     Record found for city: {city}    city id: {searchCityID}\")\n",
    "        search_data.append(response)\n",
    "        cityList.append(city)\n",
    "        countryList.append(randCountry[searchCnt-1])\n",
    "    else:\n",
    "        print(f\"     No weather record found for city: {city}\")\n",
    "          \n",
    "print(\"---------------------------------------\")\n",
    "print(\"Processing Complete\")"
   ]
  },
  {
   "cell_type": "code",
   "execution_count": null,
   "metadata": {},
   "outputs": [],
   "source": [
    "#print(json.dumps(search_data[2], indent=4))\n",
    "len(search_data)"
   ]
  },
  {
   "cell_type": "code",
   "execution_count": null,
   "metadata": {},
   "outputs": [],
   "source": [
    "# Use list comprehension to gather necessary data series\n",
    "\n",
    "lat_data = [data.get(\"coord\").get(\"lat\") for data in search_data]\n",
    "lng_data = [data.get(\"coord\").get(\"lon\") for data in search_data]\n",
    "temp_data = [data.get(\"main\").get(\"temp\") for data in search_data]\n",
    "humid_data = [data.get(\"main\").get(\"humidity\") for data in search_data]\n",
    "cloud_data =[data.get(\"clouds\").get(\"all\") for data in search_data]\n",
    "wind_data = [data.get(\"wind\").get(\"speed\") for data in search_data]"
   ]
  },
  {
   "cell_type": "code",
   "execution_count": null,
   "metadata": {},
   "outputs": [],
   "source": [
    "# Create data frame with aggregated data\n",
    "weather_data = pd.DataFrame({\"cityName\":cityList,\n",
    "                            \"country\":countryList,\n",
    "                            \"lat\":lat_data,\n",
    "                            \"lng\":lng_data,\n",
    "                            \"temp\":temp_data,\n",
    "                            \"humidity\":humid_data,\n",
    "                            \"cloudiness\":cloud_data,\n",
    "                            \"winds\":wind_data})"
   ]
  },
  {
   "cell_type": "code",
   "execution_count": null,
   "metadata": {},
   "outputs": [],
   "source": [
    "# Save weather data to csv file\n",
    "weather_data.to_csv(\"weatherdata.csv\", encoding=\"utf-8\", index=False)"
   ]
  },
  {
   "cell_type": "code",
   "execution_count": null,
   "metadata": {},
   "outputs": [],
   "source": [
    "# Build a scatter plot for each data type\n",
    "\n",
    "# Latitude vs Max Temp\n",
    "plt.scatter(weather_data[\"lat\"], weather_data[\"temp\"], marker=\"o\")\n",
    "\n",
    "# Add chart labels\n",
    "plt.title(\"City Latitude vs Max Temperature\")\n",
    "plt.ylabel(\"Temperature (F) \")\n",
    "plt.xlabel(\"Latitude\")\n",
    "plt.grid(True)\n",
    "plt.xlim(-90,90)\n",
    "\n",
    "# Save the figure\n",
    "plt.savefig(\"Lat_vs_MaxTemp.png\")\n",
    "# Show plot\n",
    "plt.show()"
   ]
  },
  {
   "cell_type": "code",
   "execution_count": null,
   "metadata": {},
   "outputs": [],
   "source": [
    "# Latitude vs Humidity\n",
    "plt.scatter(weather_data[\"lat\"], weather_data[\"humidity\"], marker=\"o\")\n",
    "\n",
    "# Add chart labels\n",
    "plt.title(\"City Latitude vs Humidity\")\n",
    "plt.ylabel(\"Humidity\")\n",
    "plt.xlabel(\"Latitude\")\n",
    "plt.grid(True)\n",
    "plt.xlim(-90,90)\n",
    "\n",
    "# Save the figure\n",
    "plt.savefig(\"Lat_vs_Humidity.png\")\n",
    "\n",
    "# Show plot\n",
    "plt.show()"
   ]
  },
  {
   "cell_type": "code",
   "execution_count": null,
   "metadata": {},
   "outputs": [],
   "source": [
    "# Latitude vs Cloudiness\n",
    "plt.scatter(weather_data[\"lat\"], weather_data[\"cloudiness\"], marker=\"o\")\n",
    "\n",
    "# Add chart labels\n",
    "plt.title(\"City Latitude vs Cloudiness\")\n",
    "plt.ylabel(\"Cloudiness\")\n",
    "plt.xlabel(\"Latitude\")\n",
    "plt.grid(True)\n",
    "plt.xlim(-90,90)\n",
    "\n",
    "# Save the figure\n",
    "plt.savefig(\"Lat_vs_Cloudiness.png\")\n",
    "\n",
    "# Show plot\n",
    "plt.show()"
   ]
  },
  {
   "cell_type": "code",
   "execution_count": null,
   "metadata": {},
   "outputs": [],
   "source": [
    "# Latitude vs Wind Speed\n",
    "plt.scatter(weather_data[\"lat\"], weather_data[\"winds\"], marker=\"o\")\n",
    "\n",
    "# Add chart labels\n",
    "plt.title(\"City Latitude vs Wind Speed\")\n",
    "plt.ylabel(\"Wind Speed (mph)\")\n",
    "plt.xlabel(\"Latitude\")\n",
    "plt.grid(True)\n",
    "plt.xlim(-90,90)\n",
    "\n",
    "# Save the figure\n",
    "plt.savefig(\"Lat_vs_WindSpeed.png\")\n",
    "\n",
    "# Show plot\n",
    "plt.show()"
   ]
  }
 ],
 "metadata": {
  "anaconda-cloud": {},
  "kernelspec": {
   "display_name": "Python 3",
   "language": "python",
   "name": "python3"
  },
  "language_info": {
   "codemirror_mode": {
    "name": "ipython",
    "version": 3
   },
   "file_extension": ".py",
   "mimetype": "text/x-python",
   "name": "python",
   "nbconvert_exporter": "python",
   "pygments_lexer": "ipython3",
   "version": "3.6.5"
  }
 },
 "nbformat": 4,
 "nbformat_minor": 1
}
